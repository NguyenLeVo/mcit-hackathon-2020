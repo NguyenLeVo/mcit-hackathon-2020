{
 "cells": [
  {
   "cell_type": "markdown",
   "metadata": {},
   "source": [
    "# Use AI to predict your age!\n",
    "\n",
    "### Use the upload button to upload a selfie and get an age prediction!"
   ]
  },
  {
   "cell_type": "code",
   "execution_count": null,
   "metadata": {},
   "outputs": [],
   "source": [
    "!pip install -Uqq fastbook"
   ]
  },
  {
   "cell_type": "code",
   "execution_count": null,
   "metadata": {},
   "outputs": [],
   "source": [
    "!pip install voila"
   ]
  },
  {
   "cell_type": "code",
   "execution_count": null,
   "metadata": {},
   "outputs": [
    {
     "name": "stdout",
     "output_type": "stream",
     "text": [
      "Enabling: voila\n",
      "- Writing config: /Users/nmaddira/.jupyter\n",
      "    - Validating...\n",
      "      voila 0.1.22 \u001b[32mOK\u001b[0m\n",
      "Enabling: —sys-prefix\n",
      "- Writing config: /Users/nmaddira/.jupyter\n",
      "    - Validating...\n",
      "Error loading server extension —sys-prefix\n",
      "     \u001b[31m X\u001b[0m is —sys-prefix importable?\n",
      "[Voila] Using /var/folders/cm/0l1l8_b96tz0l5vrdvr45r_c0000gp/T to store connection files\n",
      "[Voila] Storing connection files in /var/folders/cm/0l1l8_b96tz0l5vrdvr45r_c0000gp/T/voila_i021h8g6.\n",
      "[Voila] Serving static files from /usr/local/lib/python3.7/site-packages/voila/static.\n",
      "[Voila] Voila is running at:\n",
      "http://localhost:8866/\n",
      "WARNING:tornado.access:404 GET /favicon.ico (::1) 0.81ms\n",
      "[Voila] Kernel started: d965e7c0-48d8-4d4e-ba96-8ee24ea816bd\n"
     ]
    }
   ],
   "source": [
    "!jupyter serverextension enable voila —sys-prefix\n",
    "!voila --enable_nbextensions=True"
   ]
  },
  {
   "cell_type": "code",
   "execution_count": 2,
   "metadata": {},
   "outputs": [],
   "source": [
    "import fastbook\n",
    "fastbook.setup_book()\n",
    "from fastbook import *\n",
    "from fastai.vision.widgets import *\n",
    "from fastai.vision.all import *\n",
    "from fastai.vision.widgets import *"
   ]
  },
  {
   "cell_type": "code",
   "execution_count": 3,
   "metadata": {},
   "outputs": [],
   "source": [
    "path = Path()\n",
    "def label_func(fname):\n",
    "    return int(fname.name[-6:-4])\n",
    "learn_inf = load_learner(path/'export.pkl', cpu=True)\n",
    "btn_upload = widgets.FileUpload()\n",
    "out_pl = widgets.Output()\n",
    "lbl_pred = widgets.Label()"
   ]
  },
  {
   "cell_type": "code",
   "execution_count": 4,
   "metadata": {},
   "outputs": [],
   "source": [
    "def on_data_change(change):\n",
    "    lbl_pred.value = ''\n",
    "    img = PILImage.create(btn_upload.data[-1])\n",
    "    out_pl.clear_output()\n",
    "    with out_pl: display(img.to_thumb(128,128))\n",
    "    pred = learn_inf.predict(img)\n",
    "    age = pred[0][0]\n",
    "    age_lower = int(round(age)) - 2\n",
    "    age_upper = int(round(age)) + 2\n",
    "    lbl_pred.value = f'Your predicted age range is {age_lower} to {age_upper} years.'"
   ]
  },
  {
   "cell_type": "code",
   "execution_count": 5,
   "metadata": {},
   "outputs": [],
   "source": [
    "btn_upload.observe(on_data_change, names=['data'])"
   ]
  },
  {
   "cell_type": "code",
   "execution_count": 6,
   "metadata": {
    "scrolled": true
   },
   "outputs": [
    {
     "data": {
      "application/vnd.jupyter.widget-view+json": {
       "model_id": "19dd6e7530424b95b71b628091572d73",
       "version_major": 2,
       "version_minor": 0
      },
      "text/plain": [
       "VBox(children=(Label(value='Upload your selfie!'), FileUpload(value={}, description='Upload'), Output(), Label…"
      ]
     },
     "metadata": {},
     "output_type": "display_data"
    }
   ],
   "source": [
    "display(VBox([widgets.Label('Upload your selfie!'), btn_upload, out_pl, lbl_pred]))"
   ]
  },
  {
   "cell_type": "code",
   "execution_count": null,
   "metadata": {},
   "outputs": [],
   "source": []
  }
 ],
 "metadata": {
  "kernelspec": {
   "display_name": "Python 3",
   "language": "python",
   "name": "python3"
  },
  "language_info": {
   "codemirror_mode": {
    "name": "ipython",
    "version": 3
   },
   "file_extension": ".py",
   "mimetype": "text/x-python",
   "name": "python",
   "nbconvert_exporter": "python",
   "pygments_lexer": "ipython3",
   "version": "3.7.6"
  }
 },
 "nbformat": 4,
 "nbformat_minor": 2
}
