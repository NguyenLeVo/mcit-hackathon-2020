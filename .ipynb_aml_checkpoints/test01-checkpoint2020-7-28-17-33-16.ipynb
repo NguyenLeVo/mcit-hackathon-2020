{
  "nbformat": 4,
  "nbformat_minor": 0,
  "metadata": {
    "colab": {
      "name": "test01.ipynb",
      "provenance": [],
      "collapsed_sections": [],
      "authorship_tag": "ABX9TyMIpXYPk57eLXLz11iFl0yO",
      "include_colab_link": true
    },
    "kernelspec": {
      "name": "python3",
      "display_name": "Python 3"
    }
  },
  "cells": [
    {
      "cell_type": "markdown",
      "metadata": {
        "id": "view-in-github",
        "colab_type": "text"
      },
      "source": [
        "<a href=\"https://colab.research.google.com/github/nikhilmaddirala/mcit-hackathon-2020/blob/nm-dev/test01.ipynb\" target=\"_parent\"><img src=\"https://colab.research.google.com/assets/colab-badge.svg\" alt=\"Open In Colab\"/></a>"
      ]
    },
    {
      "cell_type": "code",
      "metadata": {
        "id": "wg4wfNVah4vL",
        "colab_type": "code",
        "colab": {
          "base_uri": "https://localhost:8080/",
          "height": 289
        },
        "outputId": "cf295a22-d274-46c5-c330-2d333f7891bb"
      },
      "source": [
        "!pip install -Uqq fastbook\n",
        "import fastbook\n",
        "fastbook.setup_book()"
      ],
      "execution_count": 1,
      "outputs": [
        {
          "output_type": "stream",
          "text": [
            "\u001b[K     |████████████████████████████████| 358kB 4.1MB/s \n",
            "\u001b[K     |████████████████████████████████| 51kB 5.3MB/s \n",
            "\u001b[K     |████████████████████████████████| 61kB 6.6MB/s \n",
            "\u001b[K     |████████████████████████████████| 1.0MB 13.3MB/s \n",
            "\u001b[K     |████████████████████████████████| 92kB 8.4MB/s \n",
            "\u001b[K     |████████████████████████████████| 40kB 5.1MB/s \n",
            "\u001b[K     |████████████████████████████████| 51kB 6.5MB/s \n",
            "\u001b[K     |████████████████████████████████| 61kB 6.8MB/s \n",
            "\u001b[K     |████████████████████████████████| 2.7MB 17.6MB/s \n",
            "\u001b[?25hGo to this URL in a browser: https://accounts.google.com/o/oauth2/auth?client_id=947318989803-6bn6qk8qdgf4n4g3pfee6491hc0brc4i.apps.googleusercontent.com&redirect_uri=urn%3aietf%3awg%3aoauth%3a2.0%3aoob&scope=email%20https%3a%2f%2fwww.googleapis.com%2fauth%2fdocs.test%20https%3a%2f%2fwww.googleapis.com%2fauth%2fdrive%20https%3a%2f%2fwww.googleapis.com%2fauth%2fdrive.photos.readonly%20https%3a%2f%2fwww.googleapis.com%2fauth%2fpeopleapi.readonly&response_type=code\n",
            "\n",
            "Enter your authorization code:\n",
            "··········\n",
            "Mounted at /content/gdrive\n"
          ],
          "name": "stdout"
        }
      ]
    },
    {
      "cell_type": "code",
      "metadata": {
        "id": "LpPERRppjr4M",
        "colab_type": "code",
        "colab": {}
      },
      "source": [
        "from fastbook import *\n",
        "from fastai.vision.widgets import *"
      ],
      "execution_count": 2,
      "outputs": []
    },
    {
      "cell_type": "code",
      "metadata": {
        "id": "SRy0_3BtjQFP",
        "colab_type": "code",
        "colab": {}
      },
      "source": [
        "base_dir = \"/content/gdrive/My Drive/mcit-hackathon-2020/\"\n",
        "base_path = Path(base_dir)\n",
        "\n",
        "data_dir = base_dir + 'data/'\n",
        "data_path = Path(data_dir)"
      ],
      "execution_count": 3,
      "outputs": []
    },
    {
      "cell_type": "code",
      "metadata": {
        "id": "znX32VKRkDkR",
        "colab_type": "code",
        "colab": {}
      },
      "source": [
        "imdb_meta_url = 'https://data.vision.ee.ethz.ch/cvl/rrothe/imdb-wiki/static/imdb_meta.tar'\n",
        "imdb_faces_url = 'https://data.vision.ee.ethz.ch/cvl/rrothe/imdb-wiki/static/imdb_crop.tar'"
      ],
      "execution_count": 4,
      "outputs": []
    },
    {
      "cell_type": "code",
      "metadata": {
        "id": "yVXvHJRBkUPs",
        "colab_type": "code",
        "colab": {
          "base_uri": "https://localhost:8080/",
          "height": 341
        },
        "outputId": "731f7304-2675-435f-985a-865a9e6a1020"
      },
      "source": [
        "# # Download images (one time)\n",
        "# ! wget -c -P \"/content/gdrive/My Drive/mcit-hackathon-2020/data/\" $imdb_meta_url\n",
        "# ! wget -c -P \"/content/gdrive/My Drive/mcit-hackathon-2020/data/\" $imdb_faces_url"
      ],
      "execution_count": 24,
      "outputs": [
        {
          "output_type": "stream",
          "text": [
            "--2020-08-26 16:26:26--  https://data.vision.ee.ethz.ch/cvl/rrothe/imdb-wiki/static/imdb_meta.tar\n",
            "Resolving data.vision.ee.ethz.ch (data.vision.ee.ethz.ch)... 129.132.52.162\n",
            "Connecting to data.vision.ee.ethz.ch (data.vision.ee.ethz.ch)|129.132.52.162|:443... connected.\n",
            "HTTP request sent, awaiting response... 416 Requested Range Not Satisfiable\n",
            "\n",
            "    The file is already fully retrieved; nothing to do.\n",
            "\n",
            "--2020-08-26 16:26:28--  https://data.vision.ee.ethz.ch/cvl/rrothe/imdb-wiki/static/imdb_crop.tar\n",
            "Resolving data.vision.ee.ethz.ch (data.vision.ee.ethz.ch)... 129.132.52.162\n",
            "Connecting to data.vision.ee.ethz.ch (data.vision.ee.ethz.ch)|129.132.52.162|:443... connected.\n",
            "HTTP request sent, awaiting response... 200 OK\n",
            "Length: 7012157440 (6.5G) [application/x-tar]\n",
            "Saving to: ‘/content/gdrive/My Drive/mcit-hackathon-2020/data/imdb_crop.tar’\n",
            "\n",
            "imdb_crop.tar       100%[===================>]   6.53G  9.68MB/s    in 11m 44s \n",
            "\n",
            "2020-08-26 16:38:13 (9.50 MB/s) - ‘/content/gdrive/My Drive/mcit-hackathon-2020/data/imdb_crop.tar’ saved [7012157440/7012157440]\n",
            "\n"
          ],
          "name": "stdout"
        }
      ]
    },
    {
      "cell_type": "code",
      "metadata": {
        "id": "12x9I7Dwm-36",
        "colab_type": "code",
        "colab": {}
      },
      "source": [
        "# # Untar data (one time)\n",
        "# import tarfile\n",
        "# tarfile.open('/content/gdrive/My Drive/mcit-hackathon-2020/data/imdb_meta.tar').extractall('/content/gdrive/My Drive/mcit-hackathon-2020/data/imdb_meta/')"
      ],
      "execution_count": 27,
      "outputs": []
    },
    {
      "cell_type": "code",
      "metadata": {
        "id": "mGvjwHwJk2fn",
        "colab_type": "code",
        "colab": {
          "base_uri": "https://localhost:8080/",
          "height": 55
        },
        "outputId": "972454e8-c0f0-495e-dc93-9d92ae9f9626"
      },
      "source": [
        "data_path.ls()"
      ],
      "execution_count": 5,
      "outputs": [
        {
          "output_type": "execute_result",
          "data": {
            "text/plain": [
              "(#3) [Path('/content/gdrive/My Drive/mcit-hackathon-2020/data/imdb_meta.tar'),Path('/content/gdrive/My Drive/mcit-hackathon-2020/data/imdb_crop.tar'),Path('/content/gdrive/My Drive/mcit-hackathon-2020/data/imdb_meta')]"
            ]
          },
          "metadata": {
            "tags": []
          },
          "execution_count": 5
        }
      ]
    },
    {
      "cell_type": "code",
      "metadata": {
        "id": "_-LudAUYyKxb",
        "colab_type": "code",
        "colab": {
          "base_uri": "https://localhost:8080/",
          "height": 35
        },
        "outputId": "98c5f500-5bce-4661-ab90-bdad06f09fd9"
      },
      "source": [
        "path = data_path/'imdb_meta/imdb'\n",
        "path.ls()"
      ],
      "execution_count": 6,
      "outputs": [
        {
          "output_type": "execute_result",
          "data": {
            "text/plain": [
              "(#1) [Path('/content/gdrive/My Drive/mcit-hackathon-2020/data/imdb_meta/imdb/imdb.mat')]"
            ]
          },
          "metadata": {
            "tags": []
          },
          "execution_count": 6
        }
      ]
    },
    {
      "cell_type": "code",
      "metadata": {
        "id": "78tB83YUar2Q",
        "colab_type": "code",
        "colab": {
          "base_uri": "https://localhost:8080/",
          "height": 217
        },
        "outputId": "83d13101-5d2e-426b-ecc1-a67871fff416"
      },
      "source": [
        "import scipy.io\n",
        "mat = scipy.io.loadmat('/content/gdrive/My Drive/mcit-hackathon-2020/data/imdb_meta/imdb/imdb.mat')\n",
        "arr = mat['imdb']\n",
        "arr"
      ],
      "execution_count": 7,
      "outputs": [
        {
          "output_type": "execute_result",
          "data": {
            "text/plain": [
              "{'__globals__': [],\n",
              " '__header__': b'MATLAB 5.0 MAT-file, Platform: GLNXA64, Created on: Sun Jan 17 11:30:27 2016',\n",
              " '__version__': '1.0',\n",
              " 'imdb': array([[(array([[693726, 693726, 693726, ..., 726831, 726831, 726831]], dtype=int32), array([[1968, 1970, 1968, ..., 2011, 2011, 2011]], dtype=uint16), array([[array(['01/nm0000001_rm124825600_1899-5-10_1968.jpg'], dtype='<U43'), array(['01/nm0000001_rm3343756032_1899-5-10_1970.jpg'], dtype='<U44'),\n",
              "         array(['01/nm0000001_rm577153792_1899-5-10_1968.jpg'], dtype='<U43'), ..., array(['08/nm3994408_rm926592512_1989-12-29_2011.jpg'], dtype='<U44'),\n",
              "         array(['08/nm3994408_rm943369728_1989-12-29_2011.jpg'], dtype='<U44'), array(['08/nm3994408_rm976924160_1989-12-29_2011.jpg'], dtype='<U44')]], dtype=object), array([[1., 1., 1., ..., 0., 0., 0.]]), array([[array(['Fred Astaire'], dtype='<U12'), array(['Fred Astaire'], dtype='<U12'), array(['Fred Astaire'], dtype='<U12'), ..., array(['Jane Levy'], dtype='<U9'),\n",
              "         array(['Jane Levy'], dtype='<U9'), array(['Jane Levy'], dtype='<U9')]], dtype=object), array([[array([[1072.926,  161.838, 1214.784,  303.696]]), array([[477.184, 100.352, 622.592, 245.76 ]]), array([[114.96964309, 114.96964309, 451.68657236, 451.68657236]]), ...,\n",
              "         array([[  1,   1, 453, 640]], dtype=uint16), array([[144.75225472, 126.76472288, 305.78804127, 287.80050943]]), array([[457.524,  41.748, 518.016, 102.24 ]])]], dtype=object), array([[1.45969291, 2.5431976 , 3.45557949, ...,       -inf, 4.45072452, 2.13350269]]), array([[1.11897336, 1.85200773, 2.98566022, ...,        nan,        nan,        nan]]), array([[array([\"'Lee' George Quinones\"], dtype='<U21'), array([\"'Weird Al' Yankovic\"], dtype='<U19'), array(['2 Chainz'], dtype='<U8'), ..., array(['Éric Caravaca'], dtype='<U13'),\n",
              "         array(['Ólafur Darri Ólafsson'], dtype='<U21'), array(['Óscar Jaenada'], dtype='<U13')]], dtype=object), array([[6488, 6488, 6488, ..., 8410, 8410, 8410]], dtype=uint16))]],\n",
              "       dtype=[('dob', 'O'), ('photo_taken', 'O'), ('full_path', 'O'), ('gender', 'O'), ('name', 'O'), ('face_location', 'O'), ('face_score', 'O'), ('second_face_score', 'O'), ('celeb_names', 'O'), ('celeb_id', 'O')])}"
            ]
          },
          "metadata": {
            "tags": []
          },
          "execution_count": 7
        }
      ]
    },
    {
      "cell_type": "code",
      "metadata": {
        "id": "7c5q5MDZhfJz",
        "colab_type": "code",
        "colab": {
          "base_uri": "https://localhost:8080/",
          "height": 55
        },
        "outputId": "c0d68232-0112-432b-f9cd-52b391570433"
      },
      "source": [
        "# Attributes\n",
        "arr[0].dtype"
      ],
      "execution_count": 117,
      "outputs": [
        {
          "output_type": "execute_result",
          "data": {
            "text/plain": [
              "dtype([('dob', 'O'), ('photo_taken', 'O'), ('full_path', 'O'), ('gender', 'O'), ('name', 'O'), ('face_location', 'O'), ('face_score', 'O'), ('second_face_score', 'O'), ('celeb_names', 'O'), ('celeb_id', 'O')])"
            ]
          },
          "metadata": {
            "tags": []
          },
          "execution_count": 117
        }
      ]
    },
    {
      "cell_type": "code",
      "metadata": {
        "id": "olcBMmkTjs8v",
        "colab_type": "code",
        "colab": {}
      },
      "source": [
        "columns=['dob', 'photo_taken', 'full_path', 'gender', 'name', 'face_location', 'face_score', 'second_face_score', 'celeb_names', 'celeb_id',]"
      ],
      "execution_count": 138,
      "outputs": []
    },
    {
      "cell_type": "code",
      "metadata": {
        "id": "pE5RXghli4c2",
        "colab_type": "code",
        "colab": {
          "base_uri": "https://localhost:8080/",
          "height": 35
        },
        "outputId": "81b2a80b-bcca-4d2f-cd4a-ae4af65ef70f"
      },
      "source": [
        "nrows = len(arr[0][0][0][0])\n",
        "nrows"
      ],
      "execution_count": 164,
      "outputs": [
        {
          "output_type": "execute_result",
          "data": {
            "text/plain": [
              "460723"
            ]
          },
          "metadata": {
            "tags": []
          },
          "execution_count": 164
        }
      ]
    },
    {
      "cell_type": "code",
      "metadata": {
        "id": "iaSuv0TMkQ8O",
        "colab_type": "code",
        "colab": {
          "base_uri": "https://localhost:8080/",
          "height": 776
        },
        "outputId": "58088f70-d485-470e-9dca-5bf20db3a925"
      },
      "source": [
        "# Create dataframe\n",
        "df = pd.DataFrame(columns=columns)\n",
        "for i in range(100): # TODO: Change 100 to nrows to get the full dataframe!\n",
        "  dob = arr[0][0][0][0][i]\n",
        "  photo_taken = arr[0][0][1][0][i]\n",
        "  full_path = arr[0][0][2][0][i][0]\n",
        "  gender = arr[0][0][3][0][i]\n",
        "  name = arr[0][0][4][0][i][0]\n",
        "  face_location = arr[0][0][5][0][i][0]\n",
        "  face_score = arr[0][0][6][0][i]\n",
        "  second_face_score = arr[0][0][7][0][i]\n",
        "  celeb_names = arr[0][0][8][0][i]\n",
        "  celeb_id = arr[0][0][9][0][i]\n",
        "  df.loc[i] = [dob, photo_taken, full_path, gender, name, face_location, face_score, second_face_score, celeb_names, celeb_id]\n",
        "df"
      ],
      "execution_count": 169,
      "outputs": [
        {
          "output_type": "execute_result",
          "data": {
            "text/html": [
              "<div>\n",
              "<style scoped>\n",
              "    .dataframe tbody tr th:only-of-type {\n",
              "        vertical-align: middle;\n",
              "    }\n",
              "\n",
              "    .dataframe tbody tr th {\n",
              "        vertical-align: top;\n",
              "    }\n",
              "\n",
              "    .dataframe thead th {\n",
              "        text-align: right;\n",
              "    }\n",
              "</style>\n",
              "<table border=\"1\" class=\"dataframe\">\n",
              "  <thead>\n",
              "    <tr style=\"text-align: right;\">\n",
              "      <th></th>\n",
              "      <th>dob</th>\n",
              "      <th>photo_taken</th>\n",
              "      <th>full_path</th>\n",
              "      <th>gender</th>\n",
              "      <th>name</th>\n",
              "      <th>face_location</th>\n",
              "      <th>face_score</th>\n",
              "      <th>second_face_score</th>\n",
              "      <th>celeb_names</th>\n",
              "      <th>celeb_id</th>\n",
              "    </tr>\n",
              "  </thead>\n",
              "  <tbody>\n",
              "    <tr>\n",
              "      <th>0</th>\n",
              "      <td>693726</td>\n",
              "      <td>1968</td>\n",
              "      <td>01/nm0000001_rm124825600_1899-5-10_1968.jpg</td>\n",
              "      <td>1.0</td>\n",
              "      <td>Fred Astaire</td>\n",
              "      <td>[1072.926, 161.838, 1214.7839999999999, 303.69599999999997]</td>\n",
              "      <td>1.459693</td>\n",
              "      <td>1.118973</td>\n",
              "      <td>['Lee' George Quinones]</td>\n",
              "      <td>6488</td>\n",
              "    </tr>\n",
              "    <tr>\n",
              "      <th>1</th>\n",
              "      <td>693726</td>\n",
              "      <td>1970</td>\n",
              "      <td>01/nm0000001_rm3343756032_1899-5-10_1970.jpg</td>\n",
              "      <td>1.0</td>\n",
              "      <td>Fred Astaire</td>\n",
              "      <td>[477.184, 100.352, 622.592, 245.76]</td>\n",
              "      <td>2.543198</td>\n",
              "      <td>1.852008</td>\n",
              "      <td>['Weird Al' Yankovic]</td>\n",
              "      <td>6488</td>\n",
              "    </tr>\n",
              "    <tr>\n",
              "      <th>2</th>\n",
              "      <td>693726</td>\n",
              "      <td>1968</td>\n",
              "      <td>01/nm0000001_rm577153792_1899-5-10_1968.jpg</td>\n",
              "      <td>1.0</td>\n",
              "      <td>Fred Astaire</td>\n",
              "      <td>[114.96964308962852, 114.96964308962852, 451.68657235851407, 451.68657235851407]</td>\n",
              "      <td>3.455579</td>\n",
              "      <td>2.985660</td>\n",
              "      <td>[2 Chainz]</td>\n",
              "      <td>6488</td>\n",
              "    </tr>\n",
              "    <tr>\n",
              "      <th>3</th>\n",
              "      <td>693726</td>\n",
              "      <td>1968</td>\n",
              "      <td>01/nm0000001_rm946909184_1899-5-10_1968.jpg</td>\n",
              "      <td>1.0</td>\n",
              "      <td>Fred Astaire</td>\n",
              "      <td>[622.8855056426588, 424.21750383700805, 844.339007674016, 645.6710058683652]</td>\n",
              "      <td>1.872117</td>\n",
              "      <td>NaN</td>\n",
              "      <td>[50 Cent]</td>\n",
              "      <td>6488</td>\n",
              "    </tr>\n",
              "    <tr>\n",
              "      <th>4</th>\n",
              "      <td>693726</td>\n",
              "      <td>1968</td>\n",
              "      <td>01/nm0000001_rm980463616_1899-5-10_1968.jpg</td>\n",
              "      <td>1.0</td>\n",
              "      <td>Fred Astaire</td>\n",
              "      <td>[1013.8590023603723, 233.8820422075853, 1201.5861278029422, 421.60916765015514]</td>\n",
              "      <td>1.158766</td>\n",
              "      <td>NaN</td>\n",
              "      <td>[A Martinez]</td>\n",
              "      <td>6488</td>\n",
              "    </tr>\n",
              "    <tr>\n",
              "      <th>...</th>\n",
              "      <td>...</td>\n",
              "      <td>...</td>\n",
              "      <td>...</td>\n",
              "      <td>...</td>\n",
              "      <td>...</td>\n",
              "      <td>...</td>\n",
              "      <td>...</td>\n",
              "      <td>...</td>\n",
              "      <td>...</td>\n",
              "      <td>...</td>\n",
              "    </tr>\n",
              "    <tr>\n",
              "      <th>95</th>\n",
              "      <td>699680</td>\n",
              "      <td>1978</td>\n",
              "      <td>06/nm0000006_rm469283328_1915-8-29_1978.jpg</td>\n",
              "      <td>0.0</td>\n",
              "      <td>Ingrid Bergman</td>\n",
              "      <td>[1200.1484360396703, 287.3100085808739, 1711.5720514852433, 798.7336240264468]</td>\n",
              "      <td>3.472309</td>\n",
              "      <td>1.327453</td>\n",
              "      <td>[Adam Buxton]</td>\n",
              "      <td>7820</td>\n",
              "    </tr>\n",
              "    <tr>\n",
              "      <th>96</th>\n",
              "      <td>702820</td>\n",
              "      <td>1972</td>\n",
              "      <td>08/nm0000008_rm1221625088_1924-4-3_1972.jpg</td>\n",
              "      <td>1.0</td>\n",
              "      <td>Marlon Brando</td>\n",
              "      <td>[1, 1, 1023, 878]</td>\n",
              "      <td>-inf</td>\n",
              "      <td>NaN</td>\n",
              "      <td>[Adam C. Edwards]</td>\n",
              "      <td>12843</td>\n",
              "    </tr>\n",
              "    <tr>\n",
              "      <th>97</th>\n",
              "      <td>702820</td>\n",
              "      <td>1972</td>\n",
              "      <td>08/nm0000008_rm1238402304_1924-4-3_1972.jpg</td>\n",
              "      <td>1.0</td>\n",
              "      <td>Marlon Brando</td>\n",
              "      <td>[325.09286624491943, 232.50147588922817, 740.7311228455302, 648.1397324898389]</td>\n",
              "      <td>4.157367</td>\n",
              "      <td>NaN</td>\n",
              "      <td>[Adam Campbell]</td>\n",
              "      <td>12843</td>\n",
              "    </tr>\n",
              "    <tr>\n",
              "      <th>98</th>\n",
              "      <td>702820</td>\n",
              "      <td>1972</td>\n",
              "      <td>08/nm0000008_rm1271956736_1924-4-3_1972.jpg</td>\n",
              "      <td>1.0</td>\n",
              "      <td>Marlon Brando</td>\n",
              "      <td>[1, 1, 722, 1023]</td>\n",
              "      <td>-inf</td>\n",
              "      <td>NaN</td>\n",
              "      <td>[Adam Carolla]</td>\n",
              "      <td>12843</td>\n",
              "    </tr>\n",
              "    <tr>\n",
              "      <th>99</th>\n",
              "      <td>702820</td>\n",
              "      <td>1972</td>\n",
              "      <td>08/nm0000008_rm1288733952_1924-4-3_1972.jpg</td>\n",
              "      <td>1.0</td>\n",
              "      <td>Marlon Brando</td>\n",
              "      <td>[1, 1, 818, 1023]</td>\n",
              "      <td>-inf</td>\n",
              "      <td>NaN</td>\n",
              "      <td>[Adam Cheng]</td>\n",
              "      <td>12843</td>\n",
              "    </tr>\n",
              "  </tbody>\n",
              "</table>\n",
              "<p>100 rows × 10 columns</p>\n",
              "</div>"
            ],
            "text/plain": [
              "       dob photo_taken                                     full_path  gender  \\\n",
              "0   693726        1968   01/nm0000001_rm124825600_1899-5-10_1968.jpg     1.0   \n",
              "1   693726        1970  01/nm0000001_rm3343756032_1899-5-10_1970.jpg     1.0   \n",
              "2   693726        1968   01/nm0000001_rm577153792_1899-5-10_1968.jpg     1.0   \n",
              "3   693726        1968   01/nm0000001_rm946909184_1899-5-10_1968.jpg     1.0   \n",
              "4   693726        1968   01/nm0000001_rm980463616_1899-5-10_1968.jpg     1.0   \n",
              "..     ...         ...                                           ...     ...   \n",
              "95  699680        1978   06/nm0000006_rm469283328_1915-8-29_1978.jpg     0.0   \n",
              "96  702820        1972   08/nm0000008_rm1221625088_1924-4-3_1972.jpg     1.0   \n",
              "97  702820        1972   08/nm0000008_rm1238402304_1924-4-3_1972.jpg     1.0   \n",
              "98  702820        1972   08/nm0000008_rm1271956736_1924-4-3_1972.jpg     1.0   \n",
              "99  702820        1972   08/nm0000008_rm1288733952_1924-4-3_1972.jpg     1.0   \n",
              "\n",
              "              name  \\\n",
              "0     Fred Astaire   \n",
              "1     Fred Astaire   \n",
              "2     Fred Astaire   \n",
              "3     Fred Astaire   \n",
              "4     Fred Astaire   \n",
              "..             ...   \n",
              "95  Ingrid Bergman   \n",
              "96   Marlon Brando   \n",
              "97   Marlon Brando   \n",
              "98   Marlon Brando   \n",
              "99   Marlon Brando   \n",
              "\n",
              "                                                                       face_location  \\\n",
              "0                        [1072.926, 161.838, 1214.7839999999999, 303.69599999999997]   \n",
              "1                                                [477.184, 100.352, 622.592, 245.76]   \n",
              "2   [114.96964308962852, 114.96964308962852, 451.68657235851407, 451.68657235851407]   \n",
              "3       [622.8855056426588, 424.21750383700805, 844.339007674016, 645.6710058683652]   \n",
              "4    [1013.8590023603723, 233.8820422075853, 1201.5861278029422, 421.60916765015514]   \n",
              "..                                                                               ...   \n",
              "95    [1200.1484360396703, 287.3100085808739, 1711.5720514852433, 798.7336240264468]   \n",
              "96                                                                 [1, 1, 1023, 878]   \n",
              "97    [325.09286624491943, 232.50147588922817, 740.7311228455302, 648.1397324898389]   \n",
              "98                                                                 [1, 1, 722, 1023]   \n",
              "99                                                                 [1, 1, 818, 1023]   \n",
              "\n",
              "    face_score  second_face_score              celeb_names celeb_id  \n",
              "0     1.459693           1.118973  ['Lee' George Quinones]     6488  \n",
              "1     2.543198           1.852008    ['Weird Al' Yankovic]     6488  \n",
              "2     3.455579           2.985660               [2 Chainz]     6488  \n",
              "3     1.872117                NaN                [50 Cent]     6488  \n",
              "4     1.158766                NaN             [A Martinez]     6488  \n",
              "..         ...                ...                      ...      ...  \n",
              "95    3.472309           1.327453            [Adam Buxton]     7820  \n",
              "96        -inf                NaN        [Adam C. Edwards]    12843  \n",
              "97    4.157367                NaN          [Adam Campbell]    12843  \n",
              "98        -inf                NaN           [Adam Carolla]    12843  \n",
              "99        -inf                NaN             [Adam Cheng]    12843  \n",
              "\n",
              "[100 rows x 10 columns]"
            ]
          },
          "metadata": {
            "tags": []
          },
          "execution_count": 169
        }
      ]
    },
    {
      "cell_type": "code",
      "metadata": {
        "id": "WS0fScn7oSxJ",
        "colab_type": "code",
        "colab": {}
      },
      "source": [
        ""
      ],
      "execution_count": null,
      "outputs": []
    }
  ]
}