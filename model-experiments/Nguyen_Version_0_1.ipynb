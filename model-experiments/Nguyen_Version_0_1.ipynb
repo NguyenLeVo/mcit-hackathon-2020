{
  "nbformat": 4,
  "nbformat_minor": 0,
  "metadata": {
    "colab": {
      "name": "Nguyen - Version 0-1.ipynb",
      "provenance": []
    },
    "kernelspec": {
      "name": "python3",
      "display_name": "Python 3"
    }
  },
  "cells": [
    {
      "cell_type": "markdown",
      "metadata": {
        "id": "k9RF93BRBe65",
        "colab_type": "text"
      },
      "source": [
        "I used this [Data Set](https://github.com/JingchunCheng/All-Age-Faces-Dataset). I downloaded the data set using the link within the GitHub repo above.\n",
        "Then I uploaded the folders into Google Drive."
      ]
    },
    {
      "cell_type": "code",
      "metadata": {
        "id": "VD-fQB8EyOSA",
        "colab_type": "code",
        "colab": {
          "base_uri": "https://localhost:8080/",
          "height": 283
        },
        "outputId": "a697c3b7-eb2c-46ac-b50f-a0ae0f135c15"
      },
      "source": [
        "!pip install -Uqq fastbook\n",
        "import fastbook\n",
        "fastbook.setup_book()"
      ],
      "execution_count": null,
      "outputs": [
        {
          "output_type": "stream",
          "text": [
            "\u001b[K     |████████████████████████████████| 51kB 2.9MB/s \n",
            "\u001b[K     |████████████████████████████████| 61kB 6.3MB/s \n",
            "\u001b[K     |████████████████████████████████| 358kB 30.6MB/s \n",
            "\u001b[K     |████████████████████████████████| 1.0MB 17.0MB/s \n",
            "\u001b[K     |████████████████████████████████| 92kB 8.7MB/s \n",
            "\u001b[K     |████████████████████████████████| 40kB 5.0MB/s \n",
            "\u001b[K     |████████████████████████████████| 51kB 6.0MB/s \n",
            "\u001b[K     |████████████████████████████████| 61kB 7.3MB/s \n",
            "\u001b[K     |████████████████████████████████| 2.7MB 46.8MB/s \n",
            "\u001b[?25hGo to this URL in a browser: https://accounts.google.com/o/oauth2/auth?client_id=947318989803-6bn6qk8qdgf4n4g3pfee6491hc0brc4i.apps.googleusercontent.com&redirect_uri=urn%3aietf%3awg%3aoauth%3a2.0%3aoob&scope=email%20https%3a%2f%2fwww.googleapis.com%2fauth%2fdocs.test%20https%3a%2f%2fwww.googleapis.com%2fauth%2fdrive%20https%3a%2f%2fwww.googleapis.com%2fauth%2fdrive.photos.readonly%20https%3a%2f%2fwww.googleapis.com%2fauth%2fpeopleapi.readonly&response_type=code\n",
            "\n",
            "Enter your authorization code:\n",
            "··········\n",
            "Mounted at /content/gdrive\n"
          ],
          "name": "stdout"
        }
      ]
    },
    {
      "cell_type": "markdown",
      "metadata": {
        "id": "Dic4sGYXBdyG",
        "colab_type": "text"
      },
      "source": [
        ""
      ]
    },
    {
      "cell_type": "code",
      "metadata": {
        "id": "RcykQi2B0hNB",
        "colab_type": "code",
        "colab": {}
      },
      "source": [
        "from fastbook import *\n",
        "from fastai.vision.widgets import *"
      ],
      "execution_count": null,
      "outputs": []
    },
    {
      "cell_type": "code",
      "metadata": {
        "id": "T9C0D5450ii2",
        "colab_type": "code",
        "colab": {}
      },
      "source": [
        "base_dir = \"/content/gdrive/My Drive/Colab Notebooks/mcit-hackathon-2020/\"\n",
        "base_path = Path(base_dir)\n",
        "\n",
        "data_dir = base_dir + 'aligned faces/'\n",
        "data_path = Path(data_dir)"
      ],
      "execution_count": null,
      "outputs": []
    },
    {
      "cell_type": "markdown",
      "metadata": {
        "id": "Tw4zYfti34vT",
        "colab_type": "text"
      },
      "source": [
        "Another approach is to upload the data on to Google Drive itself. Since the data has been cleaned, and all the key points metadata has been here, let's have it set up this way"
      ]
    },
    {
      "cell_type": "code",
      "metadata": {
        "id": "I58PDbcs4Km6",
        "colab_type": "code",
        "colab": {}
      },
      "source": [
        ""
      ],
      "execution_count": null,
      "outputs": []
    }
  ]
}