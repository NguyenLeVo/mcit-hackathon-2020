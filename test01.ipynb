{
  "nbformat": 4,
  "nbformat_minor": 0,
  "metadata": {
    "colab": {
      "name": "test01.ipynb",
      "provenance": [],
      "authorship_tag": "ABX9TyOHvB+aFzlEiMoNByRqmx0C",
      "include_colab_link": true
    },
    "kernelspec": {
      "name": "python3",
      "display_name": "Python 3"
    }
  },
  "cells": [
    {
      "cell_type": "markdown",
      "metadata": {
        "id": "view-in-github",
        "colab_type": "text"
      },
      "source": [
        "<a href=\"https://colab.research.google.com/github/nikhilmaddirala/mcit-hackathon-2020/blob/nm-dev/test01.ipynb\" target=\"_parent\"><img src=\"https://colab.research.google.com/assets/colab-badge.svg\" alt=\"Open In Colab\"/></a>"
      ]
    },
    {
      "cell_type": "code",
      "metadata": {
        "id": "wg4wfNVah4vL",
        "colab_type": "code",
        "colab": {
          "base_uri": "https://localhost:8080/",
          "height": 289
        },
        "outputId": "54f1da4e-2fcf-4e01-ad14-9d24985d5d38"
      },
      "source": [
        "!pip install -Uqq fastbook\n",
        "import fastbook\n",
        "fastbook.setup_book()"
      ],
      "execution_count": 1,
      "outputs": [
        {
          "output_type": "stream",
          "text": [
            "\u001b[?25l\r\u001b[K     |██████                          | 10kB 16.2MB/s eta 0:00:01\r\u001b[K     |████████████                    | 20kB 11.1MB/s eta 0:00:01\r\u001b[K     |██████████████████              | 30kB 2.7MB/s eta 0:00:01\r\u001b[K     |████████████████████████        | 40kB 3.4MB/s eta 0:00:01\r\u001b[K     |██████████████████████████████  | 51kB 3.7MB/s eta 0:00:01\r\u001b[K     |████████████████████████████████| 61kB 2.9MB/s \n",
            "\u001b[K     |████████████████████████████████| 51kB 5.8MB/s \n",
            "\u001b[K     |████████████████████████████████| 358kB 16.8MB/s \n",
            "\u001b[K     |████████████████████████████████| 1.0MB 22.2MB/s \n",
            "\u001b[K     |████████████████████████████████| 40kB 5.0MB/s \n",
            "\u001b[K     |████████████████████████████████| 92kB 9.3MB/s \n",
            "\u001b[K     |████████████████████████████████| 61kB 7.5MB/s \n",
            "\u001b[K     |████████████████████████████████| 51kB 6.5MB/s \n",
            "\u001b[K     |████████████████████████████████| 2.7MB 20.7MB/s \n",
            "\u001b[?25hGo to this URL in a browser: https://accounts.google.com/o/oauth2/auth?client_id=947318989803-6bn6qk8qdgf4n4g3pfee6491hc0brc4i.apps.googleusercontent.com&redirect_uri=urn%3aietf%3awg%3aoauth%3a2.0%3aoob&scope=email%20https%3a%2f%2fwww.googleapis.com%2fauth%2fdocs.test%20https%3a%2f%2fwww.googleapis.com%2fauth%2fdrive%20https%3a%2f%2fwww.googleapis.com%2fauth%2fdrive.photos.readonly%20https%3a%2f%2fwww.googleapis.com%2fauth%2fpeopleapi.readonly&response_type=code\n",
            "\n",
            "Enter your authorization code:\n",
            "··········\n",
            "Mounted at /content/gdrive\n"
          ],
          "name": "stdout"
        }
      ]
    },
    {
      "cell_type": "code",
      "metadata": {
        "id": "LpPERRppjr4M",
        "colab_type": "code",
        "colab": {}
      },
      "source": [
        "from fastbook import *\n",
        "from fastai.vision.widgets import *"
      ],
      "execution_count": 2,
      "outputs": []
    },
    {
      "cell_type": "code",
      "metadata": {
        "id": "SRy0_3BtjQFP",
        "colab_type": "code",
        "colab": {}
      },
      "source": [
        "base_dir = \"/content/gdrive/My Drive/mcit-hackathon-2020/\"\n",
        "base_path = Path(base_dir)\n",
        "\n",
        "data_dir = base_dir + 'data/'\n",
        "data_path = Path(data_dir)"
      ],
      "execution_count": 20,
      "outputs": []
    },
    {
      "cell_type": "code",
      "metadata": {
        "id": "znX32VKRkDkR",
        "colab_type": "code",
        "colab": {}
      },
      "source": [
        "imdb_meta_url = 'https://data.vision.ee.ethz.ch/cvl/rrothe/imdb-wiki/static/imdb_meta.tar'\n",
        "imdb_faces_url = 'https://data.vision.ee.ethz.ch/cvl/rrothe/imdb-wiki/static/imdb_crop.tar'"
      ],
      "execution_count": 11,
      "outputs": []
    },
    {
      "cell_type": "code",
      "metadata": {
        "id": "yVXvHJRBkUPs",
        "colab_type": "code",
        "colab": {
          "base_uri": "https://localhost:8080/",
          "height": 341
        },
        "outputId": "731f7304-2675-435f-985a-865a9e6a1020"
      },
      "source": [
        "# Download images\n",
        "! wget -c -P \"/content/gdrive/My Drive/mcit-hackathon-2020/data/\" $imdb_meta_url\n",
        "! wget -c -P \"/content/gdrive/My Drive/mcit-hackathon-2020/data/\" $imdb_faces_url"
      ],
      "execution_count": 24,
      "outputs": [
        {
          "output_type": "stream",
          "text": [
            "--2020-08-26 16:26:26--  https://data.vision.ee.ethz.ch/cvl/rrothe/imdb-wiki/static/imdb_meta.tar\n",
            "Resolving data.vision.ee.ethz.ch (data.vision.ee.ethz.ch)... 129.132.52.162\n",
            "Connecting to data.vision.ee.ethz.ch (data.vision.ee.ethz.ch)|129.132.52.162|:443... connected.\n",
            "HTTP request sent, awaiting response... 416 Requested Range Not Satisfiable\n",
            "\n",
            "    The file is already fully retrieved; nothing to do.\n",
            "\n",
            "--2020-08-26 16:26:28--  https://data.vision.ee.ethz.ch/cvl/rrothe/imdb-wiki/static/imdb_crop.tar\n",
            "Resolving data.vision.ee.ethz.ch (data.vision.ee.ethz.ch)... 129.132.52.162\n",
            "Connecting to data.vision.ee.ethz.ch (data.vision.ee.ethz.ch)|129.132.52.162|:443... connected.\n",
            "HTTP request sent, awaiting response... 200 OK\n",
            "Length: 7012157440 (6.5G) [application/x-tar]\n",
            "Saving to: ‘/content/gdrive/My Drive/mcit-hackathon-2020/data/imdb_crop.tar’\n",
            "\n",
            "imdb_crop.tar       100%[===================>]   6.53G  9.68MB/s    in 11m 44s \n",
            "\n",
            "2020-08-26 16:38:13 (9.50 MB/s) - ‘/content/gdrive/My Drive/mcit-hackathon-2020/data/imdb_crop.tar’ saved [7012157440/7012157440]\n",
            "\n"
          ],
          "name": "stdout"
        }
      ]
    },
    {
      "cell_type": "code",
      "metadata": {
        "id": "mGvjwHwJk2fn",
        "colab_type": "code",
        "colab": {
          "base_uri": "https://localhost:8080/",
          "height": 55
        },
        "outputId": "76a22e54-e2f3-4238-a955-e29c22af783b"
      },
      "source": [
        "data_path.ls()"
      ],
      "execution_count": 28,
      "outputs": [
        {
          "output_type": "execute_result",
          "data": {
            "text/plain": [
              "(#3) [Path('/content/gdrive/My Drive/mcit-hackathon-2020/data/imdb_meta.tar'),Path('/content/gdrive/My Drive/mcit-hackathon-2020/data/imdb_crop.tar'),Path('/content/gdrive/My Drive/mcit-hackathon-2020/data/imdb_meta')]"
            ]
          },
          "metadata": {
            "tags": []
          },
          "execution_count": 28
        }
      ]
    },
    {
      "cell_type": "code",
      "metadata": {
        "id": "12x9I7Dwm-36",
        "colab_type": "code",
        "colab": {}
      },
      "source": [
        "import tarfile\n",
        "tarfile.open('/content/gdrive/My Drive/mcit-hackathon-2020/data/imdb_meta.tar').extractall('/content/gdrive/My Drive/mcit-hackathon-2020/data/imdb_meta/')\n"
      ],
      "execution_count": 27,
      "outputs": []
    },
    {
      "cell_type": "code",
      "metadata": {
        "id": "_-LudAUYyKxb",
        "colab_type": "code",
        "colab": {
          "base_uri": "https://localhost:8080/",
          "height": 35
        },
        "outputId": "0dc6f152-e4f9-40c0-a5ca-eaeec93cd156"
      },
      "source": [
        "path = data_path/'imdb_meta/imdb'\n",
        "path.ls()"
      ],
      "execution_count": 30,
      "outputs": [
        {
          "output_type": "execute_result",
          "data": {
            "text/plain": [
              "(#1) [Path('/content/gdrive/My Drive/mcit-hackathon-2020/data/imdb_meta/imdb/imdb.mat')]"
            ]
          },
          "metadata": {
            "tags": []
          },
          "execution_count": 30
        }
      ]
    }
  ]
}