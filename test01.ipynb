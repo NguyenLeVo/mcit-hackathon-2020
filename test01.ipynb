{
  "nbformat": 4,
  "nbformat_minor": 0,
  "metadata": {
    "colab": {
      "name": "test01.ipynb",
      "provenance": [],
      "authorship_tag": "ABX9TyNeAI9ViBgh378ynFBlr+tG",
      "include_colab_link": true
    },
    "kernelspec": {
      "name": "python3",
      "display_name": "Python 3"
    }
  },
  "cells": [
    {
      "cell_type": "markdown",
      "metadata": {
        "id": "view-in-github",
        "colab_type": "text"
      },
      "source": [
        "<a href=\"https://colab.research.google.com/github/nikhilmaddirala/mcit-hackathon-2020/blob/nm-dev/test01.ipynb\" target=\"_parent\"><img src=\"https://colab.research.google.com/assets/colab-badge.svg\" alt=\"Open In Colab\"/></a>"
      ]
    },
    {
      "cell_type": "code",
      "metadata": {
        "id": "wg4wfNVah4vL",
        "colab_type": "code",
        "colab": {}
      },
      "source": [
        "# Test"
      ],
      "execution_count": null,
      "outputs": []
    }
  ]
}