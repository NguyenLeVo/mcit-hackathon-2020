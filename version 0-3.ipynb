{
 "cells": [
  {
   "cell_type": "markdown",
   "metadata": {},
   "source": [
    "Hey Nikhil:\n",
    "I downloaded the folder from Dropbox and unzipped it. \n",
    "Then it create a folder called mcit-hackathon-aug-2020 on GCP.\n",
    "Then I created three folders (data with the cleaned data, keypoints with the keypoints, and train_val for training and validation sets)\n",
    "What I'm doing is create a logic using regex to seperate the file name (e.g 01166A18.jpg) into the index (01166) and the age(18).\n",
    "Then I'll create n+1 classes of ages (from age 0 to age n)\n",
    "And then I'll link the photos to the classes. (This will be tricky)\n",
    "Then create a DataBunch\n",
    "The rest should be to create ResNet50 learner, then learn."
   ]
  },
  {
   "cell_type": "code",
   "execution_count": 4,
   "metadata": {},
   "outputs": [],
   "source": [
    "!pip install -Uqq fastbook\n",
    "import fastbook\n",
    "fastbook.setup_book()"
   ]
  },
  {
   "cell_type": "code",
   "execution_count": 5,
   "metadata": {},
   "outputs": [],
   "source": [
    "from fastbook import *\n",
    "from fastai.vision.widgets import *"
   ]
  },
  {
   "cell_type": "code",
   "execution_count": 20,
   "metadata": {},
   "outputs": [
    {
     "name": "stdout",
     "output_type": "stream",
     "text": [
      "/home/jupyter/mcit-hackathon-aug-2020\n"
     ]
    }
   ],
   "source": [
    "!pwd"
   ]
  },
  {
   "cell_type": "code",
   "execution_count": 23,
   "metadata": {},
   "outputs": [],
   "source": [
    "base_dir = \"/home/jupyter/mcit-hackathon-aug-2020/\"\n",
    "base_path = Path(base_dir)\n",
    "\n",
    "data_dir = base_dir + \"data/\"\n",
    "data_path = Path(data_dir)"
   ]
  },
  {
   "cell_type": "code",
   "execution_count": 24,
   "metadata": {},
   "outputs": [
    {
     "data": {
      "text/plain": [
       "(#8423) [Path('/home/jupyter/mcit-hackathon-aug-2020/data/01059A17.jpg'),Path('/home/jupyter/mcit-hackathon-aug-2020/data/03086A28.jpg'),Path('/home/jupyter/mcit-hackathon-aug-2020/data/01166A18.jpg'),Path('/home/jupyter/mcit-hackathon-aug-2020/data/11298A42.jpg'),Path('/home/jupyter/mcit-hackathon-aug-2020/data/09065A27.jpg'),Path('/home/jupyter/mcit-hackathon-aug-2020/data/01650A22.jpg'),Path('/home/jupyter/mcit-hackathon-aug-2020/data/03835A32.jpg'),Path('/home/jupyter/mcit-hackathon-aug-2020/data/11860A47.jpg'),Path('/home/jupyter/mcit-hackathon-aug-2020/data/08221A16.jpg'),Path('/home/jupyter/mcit-hackathon-aug-2020/data/05489A42.jpg')...]"
      ]
     },
     "execution_count": 24,
     "metadata": {},
     "output_type": "execute_result"
    }
   ],
   "source": [
    "data_path.ls()"
   ]
  },
  {
   "cell_type": "markdown",
   "metadata": {},
   "source": [
    "https://github.com/JingchunCheng/All-Age-Faces-Dataset"
   ]
  },
  {
   "cell_type": "code",
   "execution_count": 25,
   "metadata": {},
   "outputs": [],
   "source": [
    "fname = data_path.ls()[0]"
   ]
  },
  {
   "cell_type": "raw",
   "metadata": {},
   "source": [
    "re.findall(r'(.+)_\\d+.jpg$', fname.name)"
   ]
  },
  {
   "cell_type": "code",
   "execution_count": null,
   "metadata": {},
   "outputs": [],
   "source": []
  }
 ],
 "metadata": {
  "environment": {
   "name": "pytorch-gpu.1-4.m55",
   "type": "gcloud",
   "uri": "gcr.io/deeplearning-platform-release/pytorch-gpu.1-4:m55"
  },
  "kernelspec": {
   "display_name": "Python 3",
   "language": "python",
   "name": "python3"
  },
  "language_info": {
   "codemirror_mode": {
    "name": "ipython",
    "version": 3
   },
   "file_extension": ".py",
   "mimetype": "text/x-python",
   "name": "python",
   "nbconvert_exporter": "python",
   "pygments_lexer": "ipython3",
   "version": "3.7.8"
  }
 },
 "nbformat": 4,
 "nbformat_minor": 4
}
